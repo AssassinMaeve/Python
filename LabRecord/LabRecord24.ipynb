{
 "cells": [
  {
   "cell_type": "code",
   "execution_count": 1,
   "id": "5827437e",
   "metadata": {},
   "outputs": [
    {
     "name": "stdout",
     "output_type": "stream",
     "text": [
      "Mean: 48.333333333333336\n",
      "Standard Deviation: 11.590225767142474\n"
     ]
    }
   ],
   "source": [
    "import pandas as pd\n",
    "\n",
    "data = input(\"Enter numbers separated by spaces: \")\n",
    "nums = [float(x) for x in data.split()]\n",
    "s = pd.Series(nums)\n",
    "\n",
    "print(\"Mean:\", s.mean())\n",
    "print(\"Standard Deviation:\", s.std())\n"
   ]
  }
 ],
 "metadata": {
  "kernelspec": {
   "display_name": "Python 3",
   "language": "python",
   "name": "python3"
  },
  "language_info": {
   "codemirror_mode": {
    "name": "ipython",
    "version": 3
   },
   "file_extension": ".py",
   "mimetype": "text/x-python",
   "name": "python",
   "nbconvert_exporter": "python",
   "pygments_lexer": "ipython3",
   "version": "3.12.3"
  }
 },
 "nbformat": 4,
 "nbformat_minor": 5
}
