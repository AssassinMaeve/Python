{
 "cells": [
  {
   "cell_type": "code",
   "execution_count": 1,
   "id": "14f24381",
   "metadata": {},
   "outputs": [
    {
     "name": "stdout",
     "output_type": "stream",
     "text": [
      "Array using linspace:\n",
      " [1.         1.44444444 1.88888889 2.33333333 2.77777778 3.22222222\n",
      " 3.66666667 4.11111111 4.55555556 5.        ]\n",
      "\n",
      "Array using eye (4x4 identity matrix):\n",
      " [[1. 0. 0. 0.]\n",
      " [0. 1. 0. 0.]\n",
      " [0. 0. 1. 0.]\n",
      " [0. 0. 0. 1.]]\n",
      "\n",
      "Array using arange (0 to 15, step 3):\n",
      " [ 0  3  6  9 12 15]\n"
     ]
    }
   ],
   "source": [
    "import numpy as np\n",
    "\n",
    "# Using linspace: 10 numbers from 1 to 5\n",
    "arr_linspace = np.linspace(1, 5, 10)\n",
    "print(\"Array using linspace:\\n\", arr_linspace)\n",
    "\n",
    "# Using eye: 4x4 identity matrix\n",
    "arr_eye = np.eye(4)\n",
    "print(\"\\nArray using eye (4x4 identity matrix):\\n\", arr_eye)\n",
    "\n",
    "# Using arange: numbers from 0 to 15 with step 3\n",
    "arr_arange = np.arange(0, 16, 3)\n",
    "print(\"\\nArray using arange (0 to 15, step 3):\\n\", arr_arange)"
   ]
  }
 ],
 "metadata": {
  "kernelspec": {
   "display_name": "Python 3",
   "language": "python",
   "name": "python3"
  },
  "language_info": {
   "codemirror_mode": {
    "name": "ipython",
    "version": 3
   },
   "file_extension": ".py",
   "mimetype": "text/x-python",
   "name": "python",
   "nbconvert_exporter": "python",
   "pygments_lexer": "ipython3",
   "version": "3.12.3"
  }
 },
 "nbformat": 4,
 "nbformat_minor": 5
}
